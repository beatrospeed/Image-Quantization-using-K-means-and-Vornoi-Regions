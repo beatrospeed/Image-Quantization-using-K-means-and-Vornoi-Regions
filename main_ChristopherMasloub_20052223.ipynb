{
 "cells": [
  {
   "cell_type": "code",
   "execution_count": 1,
   "metadata": {},
   "outputs": [],
   "source": [
    "import cv2\n",
    "from matplotlib import pyplot as plt\n",
    "import numpy as np \n",
    "import random\n",
    "import math\n",
    "imgs = [\"baboon.jpg\",\"SAFlag.jpg\"]\n",
    "import warnings\n",
    "warnings.filterwarnings(\"ignore\", category=RuntimeWarning) "
   ]
  },
  {
   "cell_type": "code",
   "execution_count": 2,
   "metadata": {},
   "outputs": [],
   "source": [
    "def random_centers(img,k): \n",
    "    centers = []\n",
    "    for i in range(k):\n",
    "        pixel = img[random.randrange(img.shape[0]),random.randrange(img.shape[1])]\n",
    "        centers.append([pixel[0],pixel[1],pixel[2]])\n",
    "    return centers"
   ]
  },
  {
   "cell_type": "code",
   "execution_count": 3,
   "metadata": {},
   "outputs": [],
   "source": [
    "def voronoi(imgss,centerss,segmented_val,cluster_arrs):\n",
    "    sums = [[0,0,0] for i in range(len(cluster_arrs))]\n",
    "    lengths = [0 for i in range(len(cluster_arrs))]\n",
    "    means = []\n",
    "    for i in range(0,imgss.shape[0]): \n",
    "        for j in range(0,imgss.shape[1]):\n",
    "            point = imgss[i,j]\n",
    "            pxl = [point[0],point[1],point[2]]\n",
    "            eucld_distances = []\n",
    "            for center_val in centerss:\n",
    "                center = [center_val[0],center_val[1],center_val[2]]\n",
    "                val = math.sqrt((center[0]- pxl[0])**2  + (center[1]- pxl[1])**2  + (center[2]- pxl[2])**2)\n",
    "                eucld_distances.append(val)\n",
    "            min_val = min(eucld_distances)\n",
    "            min_index = eucld_distances.index(min_val)\n",
    "            cluster_arrs[min_index].append(pxl)\n",
    "            #Calculate sums and lengths as you go along such that cycles are not wastes\n",
    "            sums[min_index] = [sums[min_index][0] + pxl[0],sums[min_index][1]+ pxl[1],sums[min_index][2] + pxl[2]]\n",
    "            lengths[min_index] = lengths[min_index] + 1\n",
    "            segmented_val[i,j] = min_index\n",
    "    means = [[sums[i][0]/lengths[i],sums[i][1]/lengths[i],sums[i][2]/lengths[i]] for i in range(len(sums))]\n",
    "    \n",
    "    return [segmented_val,cluster_arrs,means]"
   ]
  },
  {
   "cell_type": "code",
   "execution_count": 4,
   "metadata": {},
   "outputs": [],
   "source": [
    "def kmeans(img,k):\n",
    "    img_c  = img.copy()\n",
    "    regions = [[] for i in range(k)]\n",
    "    prev_centers = [[] for i in range(k)]\n",
    "    centers = random_centers(img_c,k)\n",
    "\n",
    "    #pixel labels\n",
    "    segmented_vals = np.zeros((img_c.shape[0],img_c.shape[1]))\n",
    "    difference = False\n",
    "    while not(difference):\n",
    "        segmented_vals,regions,means = voronoi(img_c,centers,segmented_vals,regions)\n",
    "        counter = 0\n",
    "        for region in regions: \n",
    "            if region != []: \n",
    "                prev_centers[counter] = centers[counter]\n",
    "                centers[counter] = means[counter]\n",
    "                counter = counter + 1 \n",
    "                \n",
    "        length = len(centers)\n",
    "        length_rgb = len(centers[0])\n",
    "        count_true = 0\n",
    "        count_false = 0\n",
    "        #checks the difference between previous center values and updated and if the value is less than .5\n",
    "        #A True flag will be added to indicate that number of RGB values that have converged\n",
    "        for i in range(length):\n",
    "            for j in range(length_rgb):\n",
    "                if abs(centers[i][j] - prev_centers[i][j]) < .5:\n",
    "                    count_true += 1\n",
    "                else: \n",
    "                    count_false += 1\n",
    "        # If there is an RGB values that has not converged then the algorithm loops \n",
    "        # Other wise if 1 or less RGB values the estimation is close enough\n",
    "        # This is done to reduce computation time when the bottelneck is one RGB value that has not converged, \n",
    "        # especially after multiple iterations where that value is probably very close to the tolerence.\n",
    "        if count_false > 0: \n",
    "            difference = False\n",
    "        else: \n",
    "            difference = True            \n",
    "    \n",
    "    segmented_img = np.zeros(img_c.shape, np.uint8)\n",
    "    for i in range(segmented_img.shape[0]):\n",
    "        for j in range(segmented_img.shape[1]): \n",
    "            segmented_img[i,j] = centers[int(segmented_vals[i,j])]\n",
    "    return segmented_img"
   ]
  },
  {
   "cell_type": "markdown",
   "metadata": {},
   "source": [
    "Please set the value of K in the trackbar and then click on the image to segment the image. This was done such that the algorithm doesnt start immediatly after setting K."
   ]
  },
  {
   "cell_type": "code",
   "execution_count": 5,
   "metadata": {},
   "outputs": [],
   "source": [
    "for img in imgs: \n",
    "    \n",
    "    def onMouse(event,x,y,flags, param): \n",
    "        if event == cv2.EVENT_LBUTTONDOWN:\n",
    "            k = cv2.getTrackbarPos('k', 'Color Quantization')\n",
    "            if k == 0: \n",
    "                k = 1\n",
    "            segmented_img = kmeans(img,k)\n",
    "            cv2.imshow(\"Color Quantization\",segmented_img)\n",
    "\n",
    "    def changeK(val):\n",
    "        k = val\n",
    "      \n",
    "\n",
    "    temp = cv2.imread(img)\n",
    "    img = temp.copy()\n",
    "    cv2.namedWindow('Color Quantization')\n",
    "    cv2.createTrackbar('k', 'Color Quantization',0,255,changeK)\n",
    "    cv2.setMouseCallback('Color Quantization', onMouse)\n",
    "    cv2.imshow('Color Quantization', img)\n",
    "   \n",
    "    \n",
    "    key = cv2.waitKey(10)\n",
    "    \n",
    "    \n",
    "    while(key != ord('x')): \n",
    "        key = cv2.waitKey(0)\n",
    "    cv2.destroyAllWindows()            "
   ]
  },
  {
   "cell_type": "code",
   "execution_count": null,
   "metadata": {},
   "outputs": [],
   "source": []
  },
  {
   "cell_type": "code",
   "execution_count": null,
   "metadata": {},
   "outputs": [],
   "source": []
  }
 ],
 "metadata": {
  "kernelspec": {
   "display_name": "Python 3",
   "language": "python",
   "name": "python3"
  },
  "language_info": {
   "codemirror_mode": {
    "name": "ipython",
    "version": 3
   },
   "file_extension": ".py",
   "mimetype": "text/x-python",
   "name": "python",
   "nbconvert_exporter": "python",
   "pygments_lexer": "ipython3",
   "version": "3.8.3"
  }
 },
 "nbformat": 4,
 "nbformat_minor": 4
}
